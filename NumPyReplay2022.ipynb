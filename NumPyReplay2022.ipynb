{
  "nbformat": 4,
  "nbformat_minor": 0,
  "metadata": {
    "colab": {
      "provenance": [],
      "authorship_tag": "ABX9TyNxSaqkyMZq6ylq8+Mvk1iy",
      "include_colab_link": true
    },
    "kernelspec": {
      "name": "python3",
      "display_name": "Python 3"
    },
    "language_info": {
      "name": "python"
    }
  },
  "cells": [
    {
      "cell_type": "markdown",
      "metadata": {
        "id": "view-in-github",
        "colab_type": "text"
      },
      "source": [
        "<a href=\"https://colab.research.google.com/github/tanigawa-kou/DeepLeraning2022Late/blob/main/NumPyReplay2022.ipynb\" target=\"_parent\"><img src=\"https://colab.research.google.com/assets/colab-badge.svg\" alt=\"Open In Colab\"/></a>"
      ]
    },
    {
      "cell_type": "markdown",
      "source": [
        "###NumPyを使用する"
      ],
      "metadata": {
        "id": "E5NLFjo0lUvM"
      }
    },
    {
      "cell_type": "code",
      "execution_count": 1,
      "metadata": {
        "id": "Acx4IkDPhRKf"
      },
      "outputs": [],
      "source": [
        "import numpy as np"
      ]
    },
    {
      "cell_type": "markdown",
      "source": [
        "###配列(アレイ)を作る"
      ],
      "metadata": {
        "id": "wuNY0bO_lLVo"
      }
    },
    {
      "cell_type": "code",
      "source": [
        "x = np.array([1.0, 2.0, 3.0, 4.0, 5.0])\n",
        "print(x)\n",
        "#array()は、Pythonのリストを渡すことでNumPy 用の配列(numpy.ndarray)を生成します。\n",
        "x = np.array([1,2,3])\n",
        "print(x) # [1 2 3]\n",
        "print(type(x)) # <class 'numpy.ndarray'>\n",
        "\n",
        "my_list1 = [1,2,3,4,5]\n",
        "my_array1 = np.array(my_list1) # numpyのarrayを作る\n",
        "\n",
        "my_list2 = [10,20,30,40,50]\n",
        "my_lists = [my_list1, my_list2] #リストのリストを作る\n",
        "my_lists # [[1, 2, 3, 4, 5], [10, 20, 30, 40, 50]] #リストのリストが完成\n",
        "\n",
        "# my_lists を使ってNumPyのアレイを作る(多次元配列を作る)\n",
        "my_array2 = np.array(my_lists)\n",
        "\n",
        "my_array2 #2行5列のの配列ができる\n",
        "\n",
        "#次のように、タプルを複数渡すとエラーになってしまいます\n",
        "#np.array((1,2,3),(4,5,6))\n"
      ],
      "metadata": {
        "colab": {
          "base_uri": "https://localhost:8080/"
        },
        "id": "9WJ6fY77hbZa",
        "outputId": "2785b02b-1d95-419a-f2e6-53b023b57f92"
      },
      "execution_count": 2,
      "outputs": [
        {
          "output_type": "stream",
          "name": "stdout",
          "text": [
            "[1. 2. 3. 4. 5.]\n",
            "[1 2 3]\n",
            "<class 'numpy.ndarray'>\n"
          ]
        },
        {
          "output_type": "execute_result",
          "data": {
            "text/plain": [
              "array([[ 1,  2,  3,  4,  5],\n",
              "       [10, 20, 30, 40, 50]])"
            ]
          },
          "metadata": {},
          "execution_count": 2
        }
      ]
    },
    {
      "cell_type": "markdown",
      "source": [
        "###NumPy配列の形状を調べる"
      ],
      "metadata": {
        "id": "H6VH08J5l5a9"
      }
    },
    {
      "cell_type": "code",
      "source": [
        "a = np.array([1, 2, 3, 4]) \n",
        "a.shape # (4,)が出力される。これは1次元配列でかつ、4つ要素があることを意味します。\n",
        "\n",
        "b = np.array([[1, 2], [3,4]]) \n",
        "b.shape # (2, 2) これは行列で、2行2列を意味しています。"
      ],
      "metadata": {
        "colab": {
          "base_uri": "https://localhost:8080/"
        },
        "id": "TD8J6Ay6kqe4",
        "outputId": "f4f144f1-8f3a-4b90-fd69-8ae1888578dd"
      },
      "execution_count": 3,
      "outputs": [
        {
          "output_type": "execute_result",
          "data": {
            "text/plain": [
              "(2, 2)"
            ]
          },
          "metadata": {},
          "execution_count": 3
        }
      ]
    },
    {
      "cell_type": "markdown",
      "source": [
        "###配列生成 arange()"
      ],
      "metadata": {
        "id": "SyIqQ8oGmCSW"
      }
    },
    {
      "cell_type": "code",
      "source": [
        "# データの準備 \n",
        "# 等間隔の数字 # 0から9までの数字(配列)を生成 \n",
        "x = np.arange(10) \n",
        "print(x)\n",
        "\n",
        "# reshape()は配列を形状に変換します \n",
        "x = np.arange(1, 10).reshape(3,3) \n",
        "# 3×3の多次元配列に変換 \n",
        "y = np.arange(1, 10).reshape(3,3) \n",
        "\"\"\"\n",
        "#3x3の多次元配列に変換xを下記のように書き換えることも可能 \n",
        "x = np.reshape(x, (3,3))\n",
        "\"\"\"\n",
        "print(x) \n",
        "print(y)\n",
        "print(x + y) \n",
        "print(x - y) \n",
        "print(x * y)\n"
      ],
      "metadata": {
        "colab": {
          "base_uri": "https://localhost:8080/"
        },
        "id": "YWZGHcSHmID4",
        "outputId": "286ec592-a654-49b1-adfb-dd9e82bbedcf"
      },
      "execution_count": 4,
      "outputs": [
        {
          "output_type": "stream",
          "name": "stdout",
          "text": [
            "[0 1 2 3 4 5 6 7 8 9]\n",
            "[[1 2 3]\n",
            " [4 5 6]\n",
            " [7 8 9]]\n",
            "[[1 2 3]\n",
            " [4 5 6]\n",
            " [7 8 9]]\n",
            "[[ 2  4  6]\n",
            " [ 8 10 12]\n",
            " [14 16 18]]\n",
            "[[0 0 0]\n",
            " [0 0 0]\n",
            " [0 0 0]]\n",
            "[[ 1  4  9]\n",
            " [16 25 36]\n",
            " [49 64 81]]\n"
          ]
        }
      ]
    },
    {
      "cell_type": "markdown",
      "source": [
        "###配列操作"
      ],
      "metadata": {
        "id": "e2-Hb-Rmmo_F"
      }
    },
    {
      "cell_type": "code",
      "source": [
        "sample_array = np.arange (10) \n",
        "print (sample_array)\n",
        "\n",
        "# reshapeを使って配列の形状を指定 \n",
        "sample_array2 = sample_array.reshape(2,5) \n",
        "print(sample_array2) #array(([0,1,2,3,4], [5,6,7,8,9]])\n",
        "\n",
        "# concatenateを使って、データの結合する(axisで行方向か、縦方向を指定可能) \n",
        "sample_array3 = np.array([[1,2,3], [4,5,6]]) \n",
        "sample_array4 = np.array([[7,8,9], [10,11,12]])\n",
        "\n",
        "# 行方向に結合([[1,2,3,7,8,93,4,5,6,10,11,12]]) \n",
        "print(np.concatenate([sample_array3,sample_array4], axis=1))\n",
        "#hstackでも行方向の結合が可能 \n",
        "print (np. hstack((sample_array3, sample_array4)))\n",
        "\"\"\"\n",
        "axis=0で列方向。 axis=1で行方向です。 下記URLを参考ください。 https://qiita.com/shuetsu@github/items/2bf8bba233c5ecc7alad\n",
        "\"\"\"\n",
        "# axisに0を設定しているので、列方向([[1,2,3], [4,5,6], [7,8,9], [ 10,11,12]]] \n",
        "print( np.concatenate ( [sample_array3, sample_array4],axis=0))\n",
        "\n",
        "# vstackで列方向の結合が可能 \n",
        "print(np.vstack((sample_array3, sample_array4)))"
      ],
      "metadata": {
        "colab": {
          "base_uri": "https://localhost:8080/"
        },
        "id": "2UG9_4zbmrVx",
        "outputId": "37426696-12d4-485b-b937-863a3c944185"
      },
      "execution_count": 5,
      "outputs": [
        {
          "output_type": "stream",
          "name": "stdout",
          "text": [
            "[0 1 2 3 4 5 6 7 8 9]\n",
            "[[0 1 2 3 4]\n",
            " [5 6 7 8 9]]\n",
            "[[ 1  2  3  7  8  9]\n",
            " [ 4  5  6 10 11 12]]\n",
            "[[ 1  2  3  7  8  9]\n",
            " [ 4  5  6 10 11 12]]\n",
            "[[ 1  2  3]\n",
            " [ 4  5  6]\n",
            " [ 7  8  9]\n",
            " [10 11 12]]\n",
            "[[ 1  2  3]\n",
            " [ 4  5  6]\n",
            " [ 7  8  9]\n",
            " [10 11 12]]\n"
          ]
        }
      ]
    },
    {
      "cell_type": "markdown",
      "source": [
        "###ブロードキャスト"
      ],
      "metadata": {
        "id": "_NWNYAsHo0Z9"
      }
    },
    {
      "cell_type": "code",
      "source": [
        "  # データの準備\n",
        "sample_array = np.arange (10) \n",
        "print(sample_array)\n",
        "#上記の配列に 「5」 を足す計算\n",
        "#要素をコピーして大きさを揃えて、 配列の全ての要素に5を加算 \n",
        "print(sample_array + 5 )\n",
        "\n"
      ],
      "metadata": {
        "colab": {
          "base_uri": "https://localhost:8080/"
        },
        "id": "2LPFyDlen4WL",
        "outputId": "675704a9-df00-4cde-9c74-d56ad03122a0"
      },
      "execution_count": 6,
      "outputs": [
        {
          "output_type": "stream",
          "name": "stdout",
          "text": [
            "[0 1 2 3 4 5 6 7 8 9]\n",
            "[ 5  6  7  8  9 10 11 12 13 14]\n"
          ]
        }
      ]
    },
    {
      "cell_type": "markdown",
      "source": [
        "###多次元配列の計算"
      ],
      "metadata": {
        "id": "FbOXIQhRo3AR"
      }
    },
    {
      "cell_type": "code",
      "source": [
        "n1 = np.array([1,2,3,4,5]) \n",
        "print(n1) # [1 2345]\n",
        "# 配列の次元数は np.ndim()関数で取得可能 \n",
        "np.ndim(n1) # 1 -> 1次元\n",
        "#配列の形状取得にはshapeを使う。タプルでかえってくる \n",
        "n1.shape # (5,) # 変数が1の形状を取得\n",
        "\n",
        "\"\"\"\n",
        "2次元配列 (5,3)\n",
        "3次元配列 (5,5,4)\n",
        "1次元でも2次元でも、同様にタプルで結果が返される。\n",
        "\n",
        "\"\"\"\n",
        "#3行2列の配列(2次元の配列)を作成\n",
        "\"\"\"\n",
        "2次元配列は行列のことを意味します。 \n",
        "3x2 の配列は、最初の次元に3つ要素があり、 「次の次元に2つの要素があるという意味。\n",
        "行(row) 配列の横方向\n",
        "列(column) 配列の縦方向\n",
        "\"\"\" \n",
        "n2 = np.array([[1,2], [3,4], [5,6]]) \n",
        "print(n2)\n",
        "\"\"\"\n",
        "[[12] [34] [56]]\n",
        "\"\"\"\n",
        "print (n2.ndim) # 2"
      ],
      "metadata": {
        "colab": {
          "base_uri": "https://localhost:8080/"
        },
        "id": "ShGx8s5Oo564",
        "outputId": "9a6b4836-7d82-4676-e5a8-f151e2667f0b"
      },
      "execution_count": 7,
      "outputs": [
        {
          "output_type": "stream",
          "name": "stdout",
          "text": [
            "[1 2 3 4 5]\n",
            "[[1 2]\n",
            " [3 4]\n",
            " [5 6]]\n",
            "2\n"
          ]
        }
      ]
    },
    {
      "cell_type": "markdown",
      "source": [
        "###行列とは"
      ],
      "metadata": {
        "id": "hO7BSoj7qhq2"
      }
    },
    {
      "cell_type": "code",
      "source": [
        "my_li1 = [-1,4]\n",
        "\n",
        "my_li2 = [3,2]\n",
        "\n",
        "my_li3 = [2,5]\n",
        "\n",
        "my_li4 = [0,1]\n",
        "\n",
        "my_lists = [my_li1, my_li2, my_li3, my_li4]\n",
        "my_array3 = np.array(my_lists)\n",
        "\"\"\"\n",
        "array([[-1,4],\n",
        "[3,2],\n",
        "[2,5],\n",
        "[0,1]\n",
        "])\n",
        "\"\"\"\n",
        "my_array3\n"
      ],
      "metadata": {
        "colab": {
          "base_uri": "https://localhost:8080/"
        },
        "id": "cVW_D0Ydqfdh",
        "outputId": "79371fc9-01e5-4793-aac2-c41ab629dcc6"
      },
      "execution_count": 9,
      "outputs": [
        {
          "output_type": "execute_result",
          "data": {
            "text/plain": [
              "array([[-1,  4],\n",
              "       [ 3,  2],\n",
              "       [ 2,  5],\n",
              "       [ 0,  1]])"
            ]
          },
          "metadata": {},
          "execution_count": 9
        }
      ]
    },
    {
      "cell_type": "code",
      "source": [],
      "metadata": {
        "id": "tba6wu6ZrRtH"
      },
      "execution_count": 8,
      "outputs": []
    }
  ]
}