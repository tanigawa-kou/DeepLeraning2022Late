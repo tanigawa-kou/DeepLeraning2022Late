{
  "nbformat": 4,
  "nbformat_minor": 0,
  "metadata": {
    "colab": {
      "provenance": [],
      "collapsed_sections": [],
      "authorship_tag": "ABX9TyPFHTUYlT+r6bJXYvDPFPSx",
      "include_colab_link": true
    },
    "kernelspec": {
      "name": "python3",
      "display_name": "Python 3"
    },
    "language_info": {
      "name": "python"
    }
  },
  "cells": [
    {
      "cell_type": "markdown",
      "metadata": {
        "id": "view-in-github",
        "colab_type": "text"
      },
      "source": [
        "<a href=\"https://colab.research.google.com/github/tanigawa-kou/DeepLeraning2022Late/blob/main/%E3%83%A2%E3%82%B8%E3%83%A5%E3%83%BC%E3%83%AB%E3%81%A8%E3%83%A9%E3%82%A4%E3%83%96%E3%83%A9%E3%83%AA%E3%83%BC%E3%81%AE%E4%BD%BF%E7%94%A80920.ipynb\" target=\"_parent\"><img src=\"https://colab.research.google.com/assets/colab-badge.svg\" alt=\"Open In Colab\"/></a>"
      ]
    },
    {
      "cell_type": "markdown",
      "source": [
        "#モジュールを使う\n",
        "##inport文でモジュールを読み込んで使う\n",
        "例)math"
      ],
      "metadata": {
        "id": "QkSbqDBg8_Z9"
      }
    },
    {
      "cell_type": "code",
      "execution_count": 1,
      "metadata": {
        "id": "vqcmktA78rY0",
        "colab": {
          "base_uri": "https://localhost:8080/"
        },
        "outputId": "83ed3993-34c6-439c-aae3-da0140a69cf0"
      },
      "outputs": [
        {
          "output_type": "stream",
          "name": "stdout",
          "text": [
            "3.141592653589793\n",
            "25.0\n",
            "3.0\n"
          ]
        }
      ],
      "source": [
        "#mathモジュールを読み込む\n",
        "import math \n",
        "print(math.pi)# mathの中にある定義にしてある円周率を表示\n",
        "print(math.pow(5,2))#5の2乗\n",
        "print(math.sqrt(9))#9の平方根"
      ]
    },
    {
      "cell_type": "markdown",
      "source": [
        "##Numpy -- 数値計算用の便利なライブラリ"
      ],
      "metadata": {
        "id": "uqGy418n_PMZ"
      }
    },
    {
      "cell_type": "code",
      "source": [
        "#　numpy　を　import\n",
        "import numpy as np"
      ],
      "metadata": {
        "id": "NHNu62NF9mOZ"
      },
      "execution_count": 2,
      "outputs": []
    },
    {
      "cell_type": "markdown",
      "source": [
        "###numoy配列(ndarray)を作る"
      ],
      "metadata": {
        "id": "7G3hsBLHokVk"
      }
    },
    {
      "cell_type": "code",
      "source": [
        "# リストを引きを渡してndarrayを作る\n",
        "a = np.array( [5, 7, 3, 1, 4, 3] )\n",
        "print( a )"
      ],
      "metadata": {
        "colab": {
          "base_uri": "https://localhost:8080/"
        },
        "id": "Q_uEKhLNowpE",
        "outputId": "445f6675-df0e-4d67-e587-21eb3e25a261"
      },
      "execution_count": 3,
      "outputs": [
        {
          "output_type": "stream",
          "name": "stdout",
          "text": [
            "[5 7 3 1 4 3]\n"
          ]
        }
      ]
    },
    {
      "cell_type": "markdown",
      "source": [
        "#Numpyで配列操作をしてみる\n",
        "###配列を構成しなおす\n"
      ],
      "metadata": {
        "id": "H5vYRrfjqKiq"
      }
    },
    {
      "cell_type": "code",
      "source": [
        "from numpy.core.fromnumeric import reshape\n",
        "#現在、aは1行1次元配列\n",
        "print(a)\n",
        "# aを3行2次元配列に構成しなおす\n",
        "b = a.reshape([3,2]) # 新しい配列の構成を引数で設定する\n",
        "print(b)"
      ],
      "metadata": {
        "colab": {
          "base_uri": "https://localhost:8080/"
        },
        "id": "vYMMtP68pikZ",
        "outputId": "fafaa5cc-c06e-4d1a-9997-71db4ffecf31"
      },
      "execution_count": 4,
      "outputs": [
        {
          "output_type": "stream",
          "name": "stdout",
          "text": [
            "[5 7 3 1 4 3]\n",
            "[[5 7]\n",
            " [3 1]\n",
            " [4 3]]\n"
          ]
        }
      ]
    },
    {
      "cell_type": "markdown",
      "source": [
        "###Numpy配列の中身を初期化して作る"
      ],
      "metadata": {
        "id": "nh2LPVV9sWOt"
      }
    },
    {
      "cell_type": "code",
      "source": [
        "#3行4列の0が入った2次元配列を作る\n",
        "c = np.zeros((3,4))\n",
        "print(c)\n",
        "#ランダムな値が入った配列を作る\n",
        "np.random.seed(0)\n",
        "r = np.random.rand(3, 4)\n",
        "print(r)"
      ],
      "metadata": {
        "colab": {
          "base_uri": "https://localhost:8080/"
        },
        "id": "Sdhm_B7xq-YP",
        "outputId": "6275b6a4-f3c1-49f6-aa44-ad93cb83c433"
      },
      "execution_count": 5,
      "outputs": [
        {
          "output_type": "stream",
          "name": "stdout",
          "text": [
            "[[0. 0. 0. 0.]\n",
            " [0. 0. 0. 0.]\n",
            " [0. 0. 0. 0.]]\n",
            "[[0.5488135  0.71518937 0.60276338 0.54488318]\n",
            " [0.4236548  0.64589411 0.43758721 0.891773  ]\n",
            " [0.96366276 0.38344152 0.79172504 0.52889492]]\n"
          ]
        }
      ]
    },
    {
      "cell_type": "markdown",
      "source": [
        "##Numpyスライスのやり方\n",
        "###基本\n",
        "スライスの指定医sから[start:stop:step]で指定する\n"
      ],
      "metadata": {
        "id": "EZEz1LFruszo"
      }
    },
    {
      "cell_type": "code",
      "source": [
        "#リストのスライス\n",
        "l = list(range(10)) #0～9\n",
        "print(l)\n",
        "print(l[4:8]) #[4:8]でスライス\n",
        "print( l[ : :-1])"
      ],
      "metadata": {
        "colab": {
          "base_uri": "https://localhost:8080/"
        },
        "id": "ZcGXLNLxsvuU",
        "outputId": "e0c3438a-9438-41e6-897d-880f3805cce8"
      },
      "execution_count": 6,
      "outputs": [
        {
          "output_type": "stream",
          "name": "stdout",
          "text": [
            "[0, 1, 2, 3, 4, 5, 6, 7, 8, 9]\n",
            "[4, 5, 6, 7]\n",
            "[9, 8, 7, 6, 5, 4, 3, 2, 1, 0]\n"
          ]
        }
      ]
    },
    {
      "cell_type": "markdown",
      "source": [
        "###1次元のNumpy配列(ndarray)におけるスライス"
      ],
      "metadata": {
        "id": "mbJGjK1sxEEH"
      }
    },
    {
      "cell_type": "code",
      "source": [
        "#範囲を指定してndarrayを作る\n",
        "a = np.arange(10) #0～9の10個の要素のndarray\n",
        "print(a)\n",
        "print(a[2:8])\n",
        "print(a[2:8:2])# step2で2個飛ばし\n",
        "print(a[2:8:3])"
      ],
      "metadata": {
        "colab": {
          "base_uri": "https://localhost:8080/"
        },
        "id": "uotHXcD8vMAw",
        "outputId": "f8f5813c-ffd0-4e85-826d-e7e154d7cca7"
      },
      "execution_count": 7,
      "outputs": [
        {
          "output_type": "stream",
          "name": "stdout",
          "text": [
            "[0 1 2 3 4 5 6 7 8 9]\n",
            "[2 3 4 5 6 7]\n",
            "[2 4 6]\n",
            "[2 5]\n"
          ]
        }
      ]
    },
    {
      "cell_type": "markdown",
      "source": [
        "###1次元配列のndarrayのスライスに代入"
      ],
      "metadata": {
        "id": "Iq6jGfdFz8F1"
      }
    },
    {
      "cell_type": "code",
      "source": [
        "print(a)\n",
        "a[3:6] = 100 #指定した範囲に特定の値を代入\n",
        "print(a)\n",
        "a[3:6] = [100, 200, 300] #指定した範囲にリストを代入\n",
        "print(a)\n",
        "#a[3:8] = [100, 200, 300, 400]#3つの範囲で4つの要素を上書き（エラー）\n",
        "a = np.arange(10)\n",
        "print(a)\n",
        "a[2:8:2] = 100 #start2steop8に2で上書き\n",
        "print(a)"
      ],
      "metadata": {
        "colab": {
          "base_uri": "https://localhost:8080/"
        },
        "id": "h_5ezVMwyB9a",
        "outputId": "e8edf515-869d-452a-9240-fc55ee1aea24"
      },
      "execution_count": 8,
      "outputs": [
        {
          "output_type": "stream",
          "name": "stdout",
          "text": [
            "[0 1 2 3 4 5 6 7 8 9]\n",
            "[  0   1   2 100 100 100   6   7   8   9]\n",
            "[  0   1   2 100 200 300   6   7   8   9]\n",
            "[0 1 2 3 4 5 6 7 8 9]\n",
            "[  0   1 100   3 100   5 100   7   8   9]\n"
          ]
        }
      ]
    },
    {
      "cell_type": "markdown",
      "source": [
        "###多次元配列のndarrayのスライス\n"
      ],
      "metadata": {
        "id": "L-cNnoyK2xzf"
      }
    },
    {
      "cell_type": "code",
      "source": [
        "#3行4列の2次元配列を作る\n",
        "a = np.arange(12).reshape((3,4))\n",
        "print(a)\n",
        "#2行目から終わりまでの行 = [1:]\n",
        "#2行目から4行目手前までの列 = [1:3]\n",
        "print(a[ 1: , 1:3])\n",
        "b = np.arange( 20 ).reshape(5,4)\n",
        "print(b)\n",
        "#9.10 13,14 17,18\n",
        "c=b[2: , 1:3]\n",
        "print(c)\n",
        "print(c.shape)"
      ],
      "metadata": {
        "colab": {
          "base_uri": "https://localhost:8080/"
        },
        "id": "87ybW9VX0mN2",
        "outputId": "3aea6844-8f37-4eb1-dec6-9fac64e7ba2d"
      },
      "execution_count": 12,
      "outputs": [
        {
          "output_type": "stream",
          "name": "stdout",
          "text": [
            "[[ 0  1  2  3]\n",
            " [ 4  5  6  7]\n",
            " [ 8  9 10 11]]\n",
            "[[ 5  6]\n",
            " [ 9 10]]\n",
            "[[ 0  1  2  3]\n",
            " [ 4  5  6  7]\n",
            " [ 8  9 10 11]\n",
            " [12 13 14 15]\n",
            " [16 17 18 19]]\n",
            "[[ 9 10]\n",
            " [13 14]\n",
            " [17 18]]\n",
            "(3, 2)\n"
          ]
        }
      ]
    },
    {
      "cell_type": "markdown",
      "source": [
        "###多次元のndarrayへのスライスでの代入"
      ],
      "metadata": {
        "id": "VWCPBad_elUt"
      }
    },
    {
      "cell_type": "code",
      "source": [
        "#要素数12の3行4列の2次元配列を作る\n",
        "a = np.arange(12).reshape(3,4)\n",
        "print(a)\n",
        "b = a[ 1:, 1:3]\n",
        "print(b)\n",
        "a [1: , 1:3] = 100\n",
        "print(a)\n",
        "a = np.arange(12).reshape(3,4)\n",
        "#多次元での上書きにリストを使う\n",
        "a[ 1: , 1:3 ] = [100 , 200]\n",
        "print(a)\n",
        "#多次元の上書きに2次元のリストを指定すると\n",
        "a[1: , 1:3] = [[100, 200] , [300, 400]]\n",
        "print(a)"
      ],
      "metadata": {
        "id": "WL-GcRk33Rob",
        "colab": {
          "base_uri": "https://localhost:8080/"
        },
        "outputId": "f9c2ba8a-d43b-4978-f01b-d1d8e2afb855"
      },
      "execution_count": 22,
      "outputs": [
        {
          "output_type": "stream",
          "name": "stdout",
          "text": [
            "[[ 0  1  2  3]\n",
            " [ 4  5  6  7]\n",
            " [ 8  9 10 11]]\n",
            "[[ 5  6]\n",
            " [ 9 10]]\n",
            "[[  0   1   2   3]\n",
            " [  4 100 100   7]\n",
            " [  8 100 100  11]]\n",
            "[[  0   1   2   3]\n",
            " [  4 100 200   7]\n",
            " [  8 100 200  11]]\n",
            "[[  0   1   2   3]\n",
            " [  4 100 200   7]\n",
            " [  8 300 400  11]]\n"
          ]
        }
      ]
    },
    {
      "cell_type": "markdown",
      "source": [
        "###多次元のndarrayへのstepを使ったスライスの代入"
      ],
      "metadata": {
        "id": "aXoICTUtiU6U"
      }
    },
    {
      "cell_type": "code",
      "source": [
        "#要素数12　3行4列のndarrayを作って変数aに代入\n",
        "a = np.arange(12).reshape((3,4))\n",
        "print(a)\n",
        "print(a[ 1: , : : 2])\n",
        "#0, 3, 4, 7抜き出す\n",
        "print(a[0:2 , ::3])\n",
        "a[1: , :: 2]= 100#4, 6, 8, 10だったところを100で上書き\n",
        "print(a)\n",
        "#4, 6, 8, 10だったところをリストで上書き\n",
        "a[1: , :: 2]=[100, 200]\n",
        "print(a)\n",
        "#4, 6, 8, 10だったところを多次元で上書き\n",
        "a[1: , :: 2]=[[100, 200],[300, 400]]\n",
        "print(a)"
      ],
      "metadata": {
        "colab": {
          "base_uri": "https://localhost:8080/"
        },
        "id": "8EKT3ERQfH1A",
        "outputId": "315f2920-d60f-47d2-ebbd-9d493add79ad"
      },
      "execution_count": 31,
      "outputs": [
        {
          "output_type": "stream",
          "name": "stdout",
          "text": [
            "[[ 0  1  2  3]\n",
            " [ 4  5  6  7]\n",
            " [ 8  9 10 11]]\n",
            "[[ 4  6]\n",
            " [ 8 10]]\n",
            "[[0 3]\n",
            " [4 7]]\n",
            "[[  0   1   2   3]\n",
            " [100   5 100   7]\n",
            " [100   9 100  11]]\n",
            "[[  0   1   2   3]\n",
            " [100   5 200   7]\n",
            " [100   9 200  11]]\n",
            "[[  0   1   2   3]\n",
            " [100   5 200   7]\n",
            " [300   9 400  11]]\n"
          ]
        }
      ]
    },
    {
      "cell_type": "code",
      "source": [],
      "metadata": {
        "id": "xeu20zJvi-SR"
      },
      "execution_count": null,
      "outputs": []
    }
  ]
}