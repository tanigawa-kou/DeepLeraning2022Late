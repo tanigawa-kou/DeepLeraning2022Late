{
  "nbformat": 4,
  "nbformat_minor": 0,
  "metadata": {
    "colab": {
      "provenance": [],
      "authorship_tag": "ABX9TyNJr0RtLyCLYjnaFw9BW9Vo",
      "include_colab_link": true
    },
    "kernelspec": {
      "name": "python3",
      "display_name": "Python 3"
    },
    "language_info": {
      "name": "python"
    }
  },
  "cells": [
    {
      "cell_type": "markdown",
      "metadata": {
        "id": "view-in-github",
        "colab_type": "text"
      },
      "source": [
        "<a href=\"https://colab.research.google.com/github/tanigawa-kou/DeepLeraning2022Late/blob/main/CNN%2BPlots_pooling2022.ipynb\" target=\"_parent\"><img src=\"https://colab.research.google.com/assets/colab-badge.svg\" alt=\"Open In Colab\"/></a>"
      ]
    },
    {
      "cell_type": "markdown",
      "source": [
        "#CNN層(畳み込み層)のついた学習モデルにさらにプーリング層を追加した特徴を抽出する"
      ],
      "metadata": {
        "id": "AZlEcPpcF57h"
      }
    },
    {
      "cell_type": "markdown",
      "source": [
        "##学習モデルの層のライブラリのimport"
      ],
      "metadata": {
        "id": "XgYCVhs-GSf2"
      }
    },
    {
      "cell_type": "code",
      "execution_count": 1,
      "metadata": {
        "id": "DPA0ZJlRFrJy"
      },
      "outputs": [],
      "source": [
        "from keras.models import Sequential, Model #学習モデル\n",
        "from keras.layers import Conv2D #畳み込み層のクラス\n",
        "from keras.layers import MaxPooling2D #プーリング層のクラス"
      ]
    },
    {
      "cell_type": "markdown",
      "source": [
        "##SVG画像表示のライブラリのimport"
      ],
      "metadata": {
        "id": "drGQE-8JHMbc"
      }
    },
    {
      "cell_type": "code",
      "source": [
        "from IPython.display import SVG\n",
        "from keras.utils.vis_utils import model_to_dot"
      ],
      "metadata": {
        "id": "51puzHIPGlyr"
      },
      "execution_count": 2,
      "outputs": []
    },
    {
      "cell_type": "markdown",
      "source": [
        "##学習モデルを生成"
      ],
      "metadata": {
        "id": "5CeeWNmjHsfG"
      }
    },
    {
      "cell_type": "code",
      "source": [
        "model = Sequential()"
      ],
      "metadata": {
        "id": "j4opu5T_HiPy"
      },
      "execution_count": 3,
      "outputs": []
    },
    {
      "cell_type": "markdown",
      "source": [
        "##学習モデルに畳み込み層(Conv2D)を追加"
      ],
      "metadata": {
        "id": "5FdKx3veIES-"
      }
    },
    {
      "cell_type": "code",
      "source": [
        "model.add(Conv2D(\n",
        "    filters=3, #フィルター3パターン\n",
        "    kernel_size=(3,3), #受容(カーネル)は縦3,横3\n",
        "    input_shape=(6,6,1), #入力画像データの形\n",
        "    padding='same', #ゼロパディング\n",
        "    #strides=2, #ストライド(カーネルの移動量)\n",
        "    name='Conv2D_1'\n",
        "))"
      ],
      "metadata": {
        "id": "QKdTjmOtH2rX"
      },
      "execution_count": 4,
      "outputs": []
    },
    {
      "cell_type": "markdown",
      "source": [
        "###組み立て学習モデルの形をSVG画像で表示"
      ],
      "metadata": {
        "id": "DQ0JLor7JXZh"
      }
    },
    {
      "cell_type": "code",
      "source": [
        "SVG(model_to_dot(model,\n",
        "                 show_shapes=True,\n",
        "                 dpi=None).create(prog='dot', format='svg'))"
      ],
      "metadata": {
        "colab": {
          "base_uri": "https://localhost:8080/",
          "height": 205
        },
        "id": "wOu6Kw0xJZMB",
        "outputId": "08d30bf5-6a0b-48e4-d0d8-b915d26e25af"
      },
      "execution_count": 5,
      "outputs": [
        {
          "output_type": "execute_result",
          "data": {
            "text/plain": [
              "<IPython.core.display.SVG object>"
            ],
            "image/svg+xml": "<svg height=\"138pt\" viewBox=\"0.00 0.00 368.00 138.00\" width=\"368pt\" xmlns=\"http://www.w3.org/2000/svg\" xmlns:xlink=\"http://www.w3.org/1999/xlink\">\n<g class=\"graph\" id=\"graph0\" transform=\"scale(1 1) rotate(0) translate(4 134)\">\n<title>G</title>\n<polygon fill=\"#ffffff\" points=\"-4,4 -4,-134 364,-134 364,4 -4,4\" stroke=\"transparent\"/>\n<!-- dpi -->\n<g class=\"node\" id=\"node1\">\n<title>dpi</title>\n<ellipse cx=\"27\" cy=\"-106.5\" fill=\"none\" rx=\"27\" ry=\"18\" stroke=\"#000000\"/>\n<text fill=\"#000000\" font-family=\"Times,serif\" font-size=\"14.00\" text-anchor=\"middle\" x=\"27\" y=\"-102.8\">dpi</text>\n</g>\n<!-- 139681291083728 -->\n<g class=\"node\" id=\"node2\">\n<title>139681291083728</title>\n<polygon fill=\"none\" points=\"72,-83.5 72,-129.5 360,-129.5 360,-83.5 72,-83.5\" stroke=\"#000000\"/>\n<text fill=\"#000000\" font-family=\"Times,serif\" font-size=\"14.00\" text-anchor=\"middle\" x=\"131.5\" y=\"-114.3\">Conv2D_1_input</text>\n<polyline fill=\"none\" points=\"72,-106.5 191,-106.5 \" stroke=\"#000000\"/>\n<text fill=\"#000000\" font-family=\"Times,serif\" font-size=\"14.00\" text-anchor=\"middle\" x=\"131.5\" y=\"-91.3\">InputLayer</text>\n<polyline fill=\"none\" points=\"191,-83.5 191,-129.5 \" stroke=\"#000000\"/>\n<text fill=\"#000000\" font-family=\"Times,serif\" font-size=\"14.00\" text-anchor=\"middle\" x=\"220\" y=\"-114.3\">input:</text>\n<polyline fill=\"none\" points=\"191,-106.5 249,-106.5 \" stroke=\"#000000\"/>\n<text fill=\"#000000\" font-family=\"Times,serif\" font-size=\"14.00\" text-anchor=\"middle\" x=\"220\" y=\"-91.3\">output:</text>\n<polyline fill=\"none\" points=\"249,-83.5 249,-129.5 \" stroke=\"#000000\"/>\n<text fill=\"#000000\" font-family=\"Times,serif\" font-size=\"14.00\" text-anchor=\"middle\" x=\"304.5\" y=\"-114.3\">[(None, 6, 6, 1)]</text>\n<polyline fill=\"none\" points=\"249,-106.5 360,-106.5 \" stroke=\"#000000\"/>\n<text fill=\"#000000\" font-family=\"Times,serif\" font-size=\"14.00\" text-anchor=\"middle\" x=\"304.5\" y=\"-91.3\">[(None, 6, 6, 1)]</text>\n</g>\n<!-- 139681291083536 -->\n<g class=\"node\" id=\"node3\">\n<title>139681291083536</title>\n<polygon fill=\"none\" points=\"95,-.5 95,-46.5 337,-46.5 337,-.5 95,-.5\" stroke=\"#000000\"/>\n<text fill=\"#000000\" font-family=\"Times,serif\" font-size=\"14.00\" text-anchor=\"middle\" x=\"136\" y=\"-31.3\">Conv2D_1</text>\n<polyline fill=\"none\" points=\"95,-23.5 177,-23.5 \" stroke=\"#000000\"/>\n<text fill=\"#000000\" font-family=\"Times,serif\" font-size=\"14.00\" text-anchor=\"middle\" x=\"136\" y=\"-8.3\">Conv2D</text>\n<polyline fill=\"none\" points=\"177,-.5 177,-46.5 \" stroke=\"#000000\"/>\n<text fill=\"#000000\" font-family=\"Times,serif\" font-size=\"14.00\" text-anchor=\"middle\" x=\"206\" y=\"-31.3\">input:</text>\n<polyline fill=\"none\" points=\"177,-23.5 235,-23.5 \" stroke=\"#000000\"/>\n<text fill=\"#000000\" font-family=\"Times,serif\" font-size=\"14.00\" text-anchor=\"middle\" x=\"206\" y=\"-8.3\">output:</text>\n<polyline fill=\"none\" points=\"235,-.5 235,-46.5 \" stroke=\"#000000\"/>\n<text fill=\"#000000\" font-family=\"Times,serif\" font-size=\"14.00\" text-anchor=\"middle\" x=\"286\" y=\"-31.3\">(None, 6, 6, 1)</text>\n<polyline fill=\"none\" points=\"235,-23.5 337,-23.5 \" stroke=\"#000000\"/>\n<text fill=\"#000000\" font-family=\"Times,serif\" font-size=\"14.00\" text-anchor=\"middle\" x=\"286\" y=\"-8.3\">(None, 6, 6, 3)</text>\n</g>\n<!-- 139681291083728&#45;&gt;139681291083536 -->\n<g class=\"edge\" id=\"edge1\">\n<title>139681291083728-&gt;139681291083536</title>\n<path d=\"M216,-83.3799C216,-75.1745 216,-65.7679 216,-56.8786\" fill=\"none\" stroke=\"#000000\"/>\n<polygon fill=\"#000000\" points=\"219.5001,-56.784 216,-46.784 212.5001,-56.784 219.5001,-56.784\" stroke=\"#000000\"/>\n</g>\n</g>\n</svg>"
          },
          "metadata": {},
          "execution_count": 5
        }
      ]
    },
    {
      "cell_type": "markdown",
      "source": [
        "###畳み込み層の学習モデルに、プーリング層を追加する"
      ],
      "metadata": {
        "id": "XGq2S-CfJYO2"
      }
    },
    {
      "cell_type": "code",
      "source": [
        "model.add(MaxPooling2D(\n",
        "    pool_size=(2,2),\n",
        "    name='MaxPooling2D_1'\n",
        "))"
      ],
      "metadata": {
        "id": "zWWQUM-eK0XW"
      },
      "execution_count": 6,
      "outputs": []
    },
    {
      "cell_type": "markdown",
      "source": [
        "##プーリング層を追加した学習モデルの形をSVG画像表示"
      ],
      "metadata": {
        "id": "JgCAF395Lsfy"
      }
    },
    {
      "cell_type": "code",
      "source": [
        "SVG(model_to_dot(model,\n",
        "                 show_shapes=True,\n",
        "                 dpi=None).create(prog='dot', format='svg'))"
      ],
      "metadata": {
        "colab": {
          "base_uri": "https://localhost:8080/",
          "height": 316
        },
        "id": "sMj0cnSALRvD",
        "outputId": "19b0a4c7-ca0d-4852-ada7-966c5264c644"
      },
      "execution_count": 7,
      "outputs": [
        {
          "output_type": "execute_result",
          "data": {
            "text/plain": [
              "<IPython.core.display.SVG object>"
            ],
            "image/svg+xml": "<svg height=\"221pt\" viewBox=\"0.00 0.00 368.00 221.00\" width=\"368pt\" xmlns=\"http://www.w3.org/2000/svg\" xmlns:xlink=\"http://www.w3.org/1999/xlink\">\n<g class=\"graph\" id=\"graph0\" transform=\"scale(1 1) rotate(0) translate(4 217)\">\n<title>G</title>\n<polygon fill=\"#ffffff\" points=\"-4,4 -4,-217 364,-217 364,4 -4,4\" stroke=\"transparent\"/>\n<!-- dpi -->\n<g class=\"node\" id=\"node1\">\n<title>dpi</title>\n<ellipse cx=\"27\" cy=\"-189.5\" fill=\"none\" rx=\"27\" ry=\"18\" stroke=\"#000000\"/>\n<text fill=\"#000000\" font-family=\"Times,serif\" font-size=\"14.00\" text-anchor=\"middle\" x=\"27\" y=\"-185.8\">dpi</text>\n</g>\n<!-- 139681291083728 -->\n<g class=\"node\" id=\"node2\">\n<title>139681291083728</title>\n<polygon fill=\"none\" points=\"72,-166.5 72,-212.5 360,-212.5 360,-166.5 72,-166.5\" stroke=\"#000000\"/>\n<text fill=\"#000000\" font-family=\"Times,serif\" font-size=\"14.00\" text-anchor=\"middle\" x=\"131.5\" y=\"-197.3\">Conv2D_1_input</text>\n<polyline fill=\"none\" points=\"72,-189.5 191,-189.5 \" stroke=\"#000000\"/>\n<text fill=\"#000000\" font-family=\"Times,serif\" font-size=\"14.00\" text-anchor=\"middle\" x=\"131.5\" y=\"-174.3\">InputLayer</text>\n<polyline fill=\"none\" points=\"191,-166.5 191,-212.5 \" stroke=\"#000000\"/>\n<text fill=\"#000000\" font-family=\"Times,serif\" font-size=\"14.00\" text-anchor=\"middle\" x=\"220\" y=\"-197.3\">input:</text>\n<polyline fill=\"none\" points=\"191,-189.5 249,-189.5 \" stroke=\"#000000\"/>\n<text fill=\"#000000\" font-family=\"Times,serif\" font-size=\"14.00\" text-anchor=\"middle\" x=\"220\" y=\"-174.3\">output:</text>\n<polyline fill=\"none\" points=\"249,-166.5 249,-212.5 \" stroke=\"#000000\"/>\n<text fill=\"#000000\" font-family=\"Times,serif\" font-size=\"14.00\" text-anchor=\"middle\" x=\"304.5\" y=\"-197.3\">[(None, 6, 6, 1)]</text>\n<polyline fill=\"none\" points=\"249,-189.5 360,-189.5 \" stroke=\"#000000\"/>\n<text fill=\"#000000\" font-family=\"Times,serif\" font-size=\"14.00\" text-anchor=\"middle\" x=\"304.5\" y=\"-174.3\">[(None, 6, 6, 1)]</text>\n</g>\n<!-- 139681291083536 -->\n<g class=\"node\" id=\"node3\">\n<title>139681291083536</title>\n<polygon fill=\"none\" points=\"95,-83.5 95,-129.5 337,-129.5 337,-83.5 95,-83.5\" stroke=\"#000000\"/>\n<text fill=\"#000000\" font-family=\"Times,serif\" font-size=\"14.00\" text-anchor=\"middle\" x=\"136\" y=\"-114.3\">Conv2D_1</text>\n<polyline fill=\"none\" points=\"95,-106.5 177,-106.5 \" stroke=\"#000000\"/>\n<text fill=\"#000000\" font-family=\"Times,serif\" font-size=\"14.00\" text-anchor=\"middle\" x=\"136\" y=\"-91.3\">Conv2D</text>\n<polyline fill=\"none\" points=\"177,-83.5 177,-129.5 \" stroke=\"#000000\"/>\n<text fill=\"#000000\" font-family=\"Times,serif\" font-size=\"14.00\" text-anchor=\"middle\" x=\"206\" y=\"-114.3\">input:</text>\n<polyline fill=\"none\" points=\"177,-106.5 235,-106.5 \" stroke=\"#000000\"/>\n<text fill=\"#000000\" font-family=\"Times,serif\" font-size=\"14.00\" text-anchor=\"middle\" x=\"206\" y=\"-91.3\">output:</text>\n<polyline fill=\"none\" points=\"235,-83.5 235,-129.5 \" stroke=\"#000000\"/>\n<text fill=\"#000000\" font-family=\"Times,serif\" font-size=\"14.00\" text-anchor=\"middle\" x=\"286\" y=\"-114.3\">(None, 6, 6, 1)</text>\n<polyline fill=\"none\" points=\"235,-106.5 337,-106.5 \" stroke=\"#000000\"/>\n<text fill=\"#000000\" font-family=\"Times,serif\" font-size=\"14.00\" text-anchor=\"middle\" x=\"286\" y=\"-91.3\">(None, 6, 6, 3)</text>\n</g>\n<!-- 139681291083728&#45;&gt;139681291083536 -->\n<g class=\"edge\" id=\"edge1\">\n<title>139681291083728-&gt;139681291083536</title>\n<path d=\"M216,-166.3799C216,-158.1745 216,-148.7679 216,-139.8786\" fill=\"none\" stroke=\"#000000\"/>\n<polygon fill=\"#000000\" points=\"219.5001,-139.784 216,-129.784 212.5001,-139.784 219.5001,-139.784\" stroke=\"#000000\"/>\n</g>\n<!-- 139681220598224 -->\n<g class=\"node\" id=\"node4\">\n<title>139681220598224</title>\n<polygon fill=\"none\" points=\"75,-.5 75,-46.5 357,-46.5 357,-.5 75,-.5\" stroke=\"#000000\"/>\n<text fill=\"#000000\" font-family=\"Times,serif\" font-size=\"14.00\" text-anchor=\"middle\" x=\"136\" y=\"-31.3\">MaxPooling2D_1</text>\n<polyline fill=\"none\" points=\"75,-23.5 197,-23.5 \" stroke=\"#000000\"/>\n<text fill=\"#000000\" font-family=\"Times,serif\" font-size=\"14.00\" text-anchor=\"middle\" x=\"136\" y=\"-8.3\">MaxPooling2D</text>\n<polyline fill=\"none\" points=\"197,-.5 197,-46.5 \" stroke=\"#000000\"/>\n<text fill=\"#000000\" font-family=\"Times,serif\" font-size=\"14.00\" text-anchor=\"middle\" x=\"226\" y=\"-31.3\">input:</text>\n<polyline fill=\"none\" points=\"197,-23.5 255,-23.5 \" stroke=\"#000000\"/>\n<text fill=\"#000000\" font-family=\"Times,serif\" font-size=\"14.00\" text-anchor=\"middle\" x=\"226\" y=\"-8.3\">output:</text>\n<polyline fill=\"none\" points=\"255,-.5 255,-46.5 \" stroke=\"#000000\"/>\n<text fill=\"#000000\" font-family=\"Times,serif\" font-size=\"14.00\" text-anchor=\"middle\" x=\"306\" y=\"-31.3\">(None, 6, 6, 3)</text>\n<polyline fill=\"none\" points=\"255,-23.5 357,-23.5 \" stroke=\"#000000\"/>\n<text fill=\"#000000\" font-family=\"Times,serif\" font-size=\"14.00\" text-anchor=\"middle\" x=\"306\" y=\"-8.3\">(None, 3, 3, 3)</text>\n</g>\n<!-- 139681291083536&#45;&gt;139681220598224 -->\n<g class=\"edge\" id=\"edge2\">\n<title>139681291083536-&gt;139681220598224</title>\n<path d=\"M216,-83.3799C216,-75.1745 216,-65.7679 216,-56.8786\" fill=\"none\" stroke=\"#000000\"/>\n<polygon fill=\"#000000\" points=\"219.5001,-56.784 216,-46.784 212.5001,-56.784 219.5001,-56.784\" stroke=\"#000000\"/>\n</g>\n</g>\n</svg>"
          },
          "metadata": {},
          "execution_count": 7
        }
      ]
    },
    {
      "cell_type": "code",
      "source": [],
      "metadata": {
        "id": "nm-9hkUKMNIG"
      },
      "execution_count": 7,
      "outputs": []
    }
  ]
}