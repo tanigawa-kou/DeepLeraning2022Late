{
  "nbformat": 4,
  "nbformat_minor": 0,
  "metadata": {
    "colab": {
      "provenance": [],
      "authorship_tag": "ABX9TyO6FKQbENX5mf+6CJWeETI/",
      "include_colab_link": true
    },
    "kernelspec": {
      "name": "python3",
      "display_name": "Python 3"
    },
    "language_info": {
      "name": "python"
    }
  },
  "cells": [
    {
      "cell_type": "markdown",
      "metadata": {
        "id": "view-in-github",
        "colab_type": "text"
      },
      "source": [
        "<a href=\"https://colab.research.google.com/github/tanigawa-kou/DeepLeraning2022Late/blob/main/0920%E9%96%A2%E6%95%B0%E5%AE%9A%E7%BE%A9.ipynb\" target=\"_parent\"><img src=\"https://colab.research.google.com/assets/colab-badge.svg\" alt=\"Open In Colab\"/></a>"
      ]
    },
    {
      "cell_type": "markdown",
      "source": [
        "#python3で関数を定義する\n",
        "##関数定義"
      ],
      "metadata": {
        "id": "Mzr6hhe0bRCm"
      }
    },
    {
      "cell_type": "code",
      "execution_count": 1,
      "metadata": {
        "colab": {
          "base_uri": "https://localhost:8080/"
        },
        "id": "fp16FzVYbHnY",
        "outputId": "269b6108-3d74-44f7-f5cd-5afdba864b08"
      },
      "outputs": [
        {
          "output_type": "stream",
          "name": "stdout",
          "text": [
            "test message!\n"
          ]
        }
      ],
      "source": [
        "#helloという関数を定義する\n",
        "#\"hello, kansuu!\" 画面に表示する関数\n",
        "def hello():\n",
        "  print(\"hello,kansuu!\")#インデントされている\n",
        "  #インデントされている命令文は関数の範囲の中\n",
        "print('test message!')#インデントされていない\n",
        "#インデントされていない命令文などは関数の外\n",
        "\n"
      ]
    },
    {
      "cell_type": "markdown",
      "source": [
        "##関数を実行する"
      ],
      "metadata": {
        "id": "Tgtp95nSd6C_"
      }
    },
    {
      "cell_type": "code",
      "source": [
        "#作成したかんすうhello()をコールする\n",
        "hello()\n",
        "hello()"
      ],
      "metadata": {
        "colab": {
          "base_uri": "https://localhost:8080/"
        },
        "id": "g55gVyALd5SO",
        "outputId": "cfb38a51-915c-42ad-b285-95139c52e264"
      },
      "execution_count": 2,
      "outputs": [
        {
          "output_type": "stream",
          "name": "stdout",
          "text": [
            "hello,kansuu!\n",
            "hello,kansuu!\n"
          ]
        }
      ]
    },
    {
      "cell_type": "markdown",
      "source": [
        "##引数付きの関数を定義する"
      ],
      "metadata": {
        "id": "QCuE6RtCetOa"
      }
    },
    {
      "cell_type": "code",
      "source": [
        "#引数付き関数 hello()を定義\n",
        "def hello(who):\n",
        "  print('hello,'+ who +'!')\n",
        "#ここが関数の終わり\n",
        "hello('python!')"
      ],
      "metadata": {
        "colab": {
          "base_uri": "https://localhost:8080/"
        },
        "id": "7lFny3cYeFh1",
        "outputId": "a6a56942-2817-41a8-cf95-628f4830aea6"
      },
      "execution_count": 3,
      "outputs": [
        {
          "output_type": "stream",
          "name": "stdout",
          "text": [
            "hello,python!!\n"
          ]
        }
      ]
    },
    {
      "cell_type": "markdown",
      "source": [
        "###複数の引数付きの関数を定義"
      ],
      "metadata": {
        "id": "dr4zP2WJgK9s"
      }
    },
    {
      "cell_type": "code",
      "source": [
        "def hello(who, aisatu):\n",
        "  print('hello,'+ who + 'さん'+ aisatu)\n",
        "#関数終わり  \n",
        "hello('田中','おはよう')\n",
        "hello('鈴木','こんにちは')"
      ],
      "metadata": {
        "colab": {
          "base_uri": "https://localhost:8080/"
        },
        "id": "gB-SuwCSfyyU",
        "outputId": "3cb71977-d1e9-4e7b-b660-9705fff58e32"
      },
      "execution_count": 4,
      "outputs": [
        {
          "output_type": "stream",
          "name": "stdout",
          "text": [
            "hello,田中さんおはよう\n",
            "hello,鈴木さんこんにちは\n"
          ]
        }
      ]
    },
    {
      "cell_type": "markdown",
      "source": [
        "##関数の戻り値を定義する\n",
        "###戻り値1つを定義"
      ],
      "metadata": {
        "id": "RGxj964jh2ep"
      }
    },
    {
      "cell_type": "code",
      "source": [
        "def helloBack(who, aisatsu):\n",
        "  return who + 'さん、' + aisatsu\n",
        "#関数終わり\n",
        "\n",
        "#戻り値を変数ｘに代入して表示\n",
        "x = helloBack('佐藤', 'こんばんは')\n",
        "print(x)"
      ],
      "metadata": {
        "colab": {
          "base_uri": "https://localhost:8080/"
        },
        "id": "JoEvbesHgyLX",
        "outputId": "0048a269-c7fc-4c8d-9409-d4be17beff11"
      },
      "execution_count": 5,
      "outputs": [
        {
          "output_type": "stream",
          "name": "stdout",
          "text": [
            "佐藤さん、こんばんは\n"
          ]
        }
      ]
    },
    {
      "cell_type": "markdown",
      "source": [
        "##複数の戻り値を返す関数を定義"
      ],
      "metadata": {
        "id": "4DfamhB-jT4C"
      }
    },
    {
      "cell_type": "code",
      "source": [
        "def keisan(x , y):\n",
        "  #x, y ,x+y の3つの値を返す\n",
        "  return x, y, x+y\n",
        "#関数終わり\n",
        "\n",
        "#関数keisanを実行して戻り値を受け取る\n",
        "e, f, g = keisan(3, 6)  #戻り値が3, 6, 9になる\n",
        "print(e, f, g)"
      ],
      "metadata": {
        "colab": {
          "base_uri": "https://localhost:8080/"
        },
        "id": "2G9o4cLJi6cL",
        "outputId": "219315eb-4b1b-4b93-b2ff-db46cfcd20f1"
      },
      "execution_count": 6,
      "outputs": [
        {
          "output_type": "stream",
          "name": "stdout",
          "text": [
            "3 6 9\n"
          ]
        }
      ]
    },
    {
      "cell_type": "markdown",
      "source": [
        "#その他の文法\n",
        "##分岐(if文)"
      ],
      "metadata": {
        "id": "F4okAOiwlUNj"
      }
    },
    {
      "cell_type": "code",
      "source": [
        "#if文の簡易もインデントで表す\n",
        "def over(num, thres):\n",
        "  if num > thres: #numがしきい値より大きい\n",
        "    print( str(num) + 'は' + str(thres) + 'より大きい')\n",
        "  else:\n",
        "    print( str(num) + 'は' + str(thres) + '以下です')\n",
        "  #分岐の終わり\n",
        "#関数終わり\n",
        "over(333, 100)\n",
        "over(-1, 10)"
      ],
      "metadata": {
        "colab": {
          "base_uri": "https://localhost:8080/"
        },
        "id": "aGsE9myWj8ex",
        "outputId": "a9ce523c-13df-4260-8b4d-beae096ddce4"
      },
      "execution_count": 7,
      "outputs": [
        {
          "output_type": "stream",
          "name": "stdout",
          "text": [
            "333は100より大きい\n",
            "-1は10以下です\n"
          ]
        }
      ]
    },
    {
      "cell_type": "code",
      "source": [
        "#リストに第2引数の値が含まれるか判定\n",
        "def include(list, keyword):\n",
        "  uniq = set(list)# リストを集合に変換\n",
        "  if keyword in uniq:\n",
        "    print(keyword + 'が含まれる')\n",
        "  else :\n",
        "    print(keyword + 'が含まれない')    \n",
        "  #分岐終わり  \n",
        "#関数終わり\n",
        "\n",
        "#リストを引き渡して作成した関数を実行する\n",
        "list_1 = ['アップル','ペン','ペン','パイナップル']#第一引数に使うリスト\n",
        "include(list_1, 'パイナップル')\n",
        "include(list_1, 'バナナ')"
      ],
      "metadata": {
        "colab": {
          "base_uri": "https://localhost:8080/"
        },
        "id": "rjthVZ69nUhv",
        "outputId": "df896b57-17b3-4704-8cbc-9a914bf98e17"
      },
      "execution_count": 8,
      "outputs": [
        {
          "output_type": "stream",
          "name": "stdout",
          "text": [
            "パイナップルが含まれる\n",
            "バナナが含まれない\n"
          ]
        }
      ]
    },
    {
      "cell_type": "markdown",
      "source": [
        "##繰り返し分(while文)"
      ],
      "metadata": {
        "id": "HE79xzPVwXZa"
      }
    },
    {
      "cell_type": "code",
      "source": [
        "#while分は条件が ture の間繰り返す\n",
        "def cunt( max ):\n",
        "  num=0\n",
        "  while num < max:#num が max 未満の間、繰り返す \n",
        "    print(num)\n",
        "    num += 1\n",
        "  #while繰り返し終わり\n",
        "#関数終わり\n",
        "cunt(5)    "
      ],
      "metadata": {
        "colab": {
          "base_uri": "https://localhost:8080/"
        },
        "id": "QoV1krLRtLGx",
        "outputId": "29341e98-5417-4add-8304-6a68c5eb6e60"
      },
      "execution_count": 9,
      "outputs": [
        {
          "output_type": "stream",
          "name": "stdout",
          "text": [
            "0\n",
            "1\n",
            "2\n",
            "3\n",
            "4\n"
          ]
        }
      ]
    },
    {
      "cell_type": "markdown",
      "source": [
        "##繰り返し(for文)\n",
        "変数βの集合から1つずつ取り出して変数αとして使う\n",
        "\n",
        "for 変数α in range( 変数β ) :\n"
      ],
      "metadata": {
        "id": "GIKJ4_K3yjqr"
      }
    },
    {
      "cell_type": "code",
      "source": [
        "#集合(コレクション)の中から取り出して繰り返し\n",
        "def every(array):\n",
        "  for x in array:#arrayの中から1つずつデータを取り出してxに代入\n",
        "    print(x)\n",
        "  #for文終わり\n",
        "#変数終わり\n",
        "\n",
        "list = [1,2,3]\n",
        "every(list)\n",
        "tuple = (4,5,6)\n",
        "every(tuple)\n",
        "\n",
        "#辞書型もコレクション\n",
        "dict = {'a':7, 'b':8, 'c':9}\n",
        "every(dict)#キーワードの一覧表示\n",
        "values = dict.values()#値のリストを取得\n",
        "every(values)#値の一覧表示\n",
        "#文字列も文字配列としてコレクション扱いできる\n",
        "every('dog')#　ｄ　ｏ　ｇ　として表示"
      ],
      "metadata": {
        "colab": {
          "base_uri": "https://localhost:8080/"
        },
        "id": "rWaE64xNxOsM",
        "outputId": "b0db2f27-d258-47e1-8ba1-a2fecdc3f0f3"
      },
      "execution_count": 10,
      "outputs": [
        {
          "output_type": "stream",
          "name": "stdout",
          "text": [
            "1\n",
            "2\n",
            "3\n",
            "4\n",
            "5\n",
            "6\n",
            "a\n",
            "b\n",
            "c\n",
            "7\n",
            "8\n",
            "9\n",
            "d\n",
            "o\n",
            "g\n"
          ]
        }
      ]
    },
    {
      "cell_type": "code",
      "source": [
        "#カウンター変数で繰り返す\n",
        "#　for n in range(数値)　0～数値未満繰り返す\n",
        "\n",
        "def count(num):\n",
        "  for n in range(num):\n",
        "    print(n)\n",
        "  #for文終了  \n",
        "#関数終了\n",
        "\n",
        "count(3) # 3 = 0,1,2,で繰り返す"
      ],
      "metadata": {
        "colab": {
          "base_uri": "https://localhost:8080/"
        },
        "id": "0JnfIFbX0bAm",
        "outputId": "76c63889-c400-4fcc-b2f0-1d1281970e88"
      },
      "execution_count": 11,
      "outputs": [
        {
          "output_type": "stream",
          "name": "stdout",
          "text": [
            "0\n",
            "1\n",
            "2\n"
          ]
        }
      ]
    },
    {
      "cell_type": "markdown",
      "source": [
        "##繰り返しを中断したいときは、break命令"
      ],
      "metadata": {
        "id": "gV5blarX4ksa"
      }
    },
    {
      "cell_type": "code",
      "source": [
        "def stop(array):\n",
        "  for i in array:\n",
        "    if i >=4:\n",
        "      break   #ループを中断\n",
        "    print(i)\n",
        "    #分岐終わり\n",
        "  #ループ終了  \n",
        "#関数終わり\n",
        "\n",
        "list = [1,2,3,4,5,1,2,3,4,5]\n",
        "stop(list)"
      ],
      "metadata": {
        "colab": {
          "base_uri": "https://localhost:8080/"
        },
        "id": "27DaX1s73n7D",
        "outputId": "3d9ba78e-7f77-40cd-b810-e502998c498b"
      },
      "execution_count": 12,
      "outputs": [
        {
          "output_type": "stream",
          "name": "stdout",
          "text": [
            "1\n",
            "2\n",
            "3\n"
          ]
        }
      ]
    },
    {
      "cell_type": "markdown",
      "source": [
        "##繰り返しをスキップしたいときは、continue命令"
      ],
      "metadata": {
        "id": "m-dq9dAI6XyZ"
      }
    },
    {
      "cell_type": "code",
      "source": [
        "def skip(array):\n",
        "  for i in array:\n",
        "    if i >= 4:\n",
        "      continue\n",
        "    print(i)\n",
        "    #分岐終わり\n",
        "  #ループ終了   \n",
        "#関数終わり \n",
        "\n",
        "skip(list)"
      ],
      "metadata": {
        "colab": {
          "base_uri": "https://localhost:8080/"
        },
        "id": "yGb_4Pmo5xo9",
        "outputId": "b40b14f5-23f5-4194-82df-bbbd6c70ca1f"
      },
      "execution_count": 13,
      "outputs": [
        {
          "output_type": "stream",
          "name": "stdout",
          "text": [
            "1\n",
            "2\n",
            "3\n",
            "1\n",
            "2\n",
            "3\n"
          ]
        }
      ]
    },
    {
      "cell_type": "code",
      "source": [],
      "metadata": {
        "id": "VbX3dSrx7RZ0"
      },
      "execution_count": null,
      "outputs": []
    }
  ]
}