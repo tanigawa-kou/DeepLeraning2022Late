{
  "nbformat": 4,
  "nbformat_minor": 0,
  "metadata": {
    "colab": {
      "provenance": [],
      "collapsed_sections": [],
      "authorship_tag": "ABX9TyMEArHLNWdC6/rY9scTea2n",
      "include_colab_link": true
    },
    "kernelspec": {
      "name": "python3",
      "display_name": "Python 3"
    },
    "language_info": {
      "name": "python"
    }
  },
  "cells": [
    {
      "cell_type": "markdown",
      "metadata": {
        "id": "view-in-github",
        "colab_type": "text"
      },
      "source": [
        "<a href=\"https://colab.research.google.com/github/tanigawa-kou/DeepLeraning2022Late/blob/main/%E3%83%86%E3%82%B9%E3%83%880913_1.ipynb\" target=\"_parent\"><img src=\"https://colab.research.google.com/assets/colab-badge.svg\" alt=\"Open In Colab\"/></a>"
      ]
    },
    {
      "cell_type": "markdown",
      "source": [
        "#リスト型とタプル型\n",
        "##リストとタプル"
      ],
      "metadata": {
        "id": "-89EDttkVGd6"
      }
    },
    {
      "cell_type": "code",
      "source": [
        "#リスト\n",
        "list = ['アップル','ペン','ペン','パイナップル']\n",
        "print(list)\n",
        "print(list[1]+list[2])"
      ],
      "metadata": {
        "colab": {
          "base_uri": "https://localhost:8080/"
        },
        "id": "L2LzGkpXUMMR",
        "outputId": "48e1aab2-59b1-44bc-df01-709eb4fdf3d2"
      },
      "execution_count": 1,
      "outputs": [
        {
          "output_type": "stream",
          "name": "stdout",
          "text": [
            "['アップル', 'ペン', 'ペン', 'パイナップル']\n",
            "ペンペン\n"
          ]
        }
      ]
    },
    {
      "cell_type": "code",
      "source": [
        "from re import T\n",
        "#タプル\n",
        "tuple = ('アップル','ペン','ペン','パイナップル')\n",
        "print(tuple)\n",
        "print(tuple[1]+tuple[2])"
      ],
      "metadata": {
        "colab": {
          "base_uri": "https://localhost:8080/"
        },
        "id": "OWs3yTsEU_5M",
        "outputId": "3fc0e81d-eb31-44db-8c51-c8579fc4bb35"
      },
      "execution_count": 2,
      "outputs": [
        {
          "output_type": "stream",
          "name": "stdout",
          "text": [
            "('アップル', 'ペン', 'ペン', 'パイナップル')\n",
            "ペンペン\n"
          ]
        }
      ]
    },
    {
      "cell_type": "markdown",
      "source": [
        "###構成を変更できるのはリスト\n",
        "###構成を変更できない(固定)はタプル"
      ],
      "metadata": {
        "id": "R21jU0ssXH4r"
      }
    },
    {
      "cell_type": "code",
      "source": [
        "#リストの構成変更\n",
        "print(list)\n",
        "list.append(100) #文字列のリストにあえて数値を追加\n",
        "print(list)\n",
        "del list[2]# リストの３番目を削除\n",
        "print(list)\n",
        "list[3]='ペン'#　数値100を'ペン'も変更\n",
        "print(list)\n",
        "list.insert(2,'ペン')#2番目の位置に'ペン'を挿入\n",
        "print(list)"
      ],
      "metadata": {
        "colab": {
          "base_uri": "https://localhost:8080/"
        },
        "id": "NRT2oNNuYSE8",
        "outputId": "c0e4e2a1-569d-43dd-e54a-f3c101558b8d"
      },
      "execution_count": 3,
      "outputs": [
        {
          "output_type": "stream",
          "name": "stdout",
          "text": [
            "['アップル', 'ペン', 'ペン', 'パイナップル']\n",
            "['アップル', 'ペン', 'ペン', 'パイナップル', 100]\n",
            "['アップル', 'ペン', 'パイナップル', 100]\n",
            "['アップル', 'ペン', 'パイナップル', 'ペン']\n",
            "['アップル', 'ペン', 'ペン', 'パイナップル', 'ペン']\n"
          ]
        }
      ]
    },
    {
      "cell_type": "markdown",
      "source": [
        "###リストやタプルの長さの取得"
      ],
      "metadata": {
        "id": "wVSmmpoDbNDw"
      }
    },
    {
      "cell_type": "code",
      "source": [
        "print(list)\n",
        "print(len(list))"
      ],
      "metadata": {
        "colab": {
          "base_uri": "https://localhost:8080/"
        },
        "id": "UvEyfegibLMP",
        "outputId": "5e2789f6-1e2c-49a1-a9f7-ffab36ebe8bc"
      },
      "execution_count": 4,
      "outputs": [
        {
          "output_type": "stream",
          "name": "stdout",
          "text": [
            "['アップル', 'ペン', 'ペン', 'パイナップル', 'ペン']\n",
            "5\n"
          ]
        }
      ]
    },
    {
      "cell_type": "markdown",
      "source": [
        "###データを抽出する(データの一部を取り出す)"
      ],
      "metadata": {
        "id": "7roU6AtScBXz"
      }
    },
    {
      "cell_type": "code",
      "source": [
        "print(list)\n",
        "print(list[1])#何番目の要素の指定の仕方と同じ考え方\n",
        "print(list[1:3])#1番目から3番目までの範囲を指定\n",
        "print(list[1:])#番目から最後までを指定"
      ],
      "metadata": {
        "colab": {
          "base_uri": "https://localhost:8080/"
        },
        "id": "nL8d7aclbWO-",
        "outputId": "5604cb3d-20d4-46b8-a6be-208d4d65194f"
      },
      "execution_count": 5,
      "outputs": [
        {
          "output_type": "stream",
          "name": "stdout",
          "text": [
            "['アップル', 'ペン', 'ペン', 'パイナップル', 'ペン']\n",
            "ペン\n",
            "['ペン', 'ペン']\n",
            "['ペン', 'ペン', 'パイナップル', 'ペン']\n"
          ]
        }
      ]
    },
    {
      "cell_type": "markdown",
      "source": [
        "###SET型(集合型)\n",
        "集合型SETは、順番を持たない。重複したデータも持たない"
      ],
      "metadata": {
        "id": "QnmHuh7VemU7"
      }
    },
    {
      "cell_type": "code",
      "source": [
        "#uniqという名前のset型変数\n",
        "uniq = set(['アップル','ペン','ペン','パイナップル'])\n",
        "print(uniq)#リストの時点では重複できていたが、set型になると重複が消える"
      ],
      "metadata": {
        "colab": {
          "base_uri": "https://localhost:8080/"
        },
        "id": "7Hk5GWj_cZ7c",
        "outputId": "dc1debf0-4dc9-4231-9c24-e634e182dc40"
      },
      "execution_count": 6,
      "outputs": [
        {
          "output_type": "stream",
          "name": "stdout",
          "text": [
            "{'アップル', 'パイナップル', 'ペン'}\n"
          ]
        }
      ]
    },
    {
      "cell_type": "markdown",
      "source": [
        "###集合型の追加変更削除"
      ],
      "metadata": {
        "id": "aE2QTxnPg5aN"
      }
    },
    {
      "cell_type": "code",
      "source": [
        "print(uniq)\n",
        "uniq.add('バナナ')#追加\n",
        "uniq.remove('ペン')#削除\n",
        "print(uniq)"
      ],
      "metadata": {
        "colab": {
          "base_uri": "https://localhost:8080/"
        },
        "id": "jEjhcMDagUa8",
        "outputId": "772d820a-16ea-43c1-baf8-b5b59086f8d7"
      },
      "execution_count": 7,
      "outputs": [
        {
          "output_type": "stream",
          "name": "stdout",
          "text": [
            "{'アップル', 'パイナップル', 'ペン'}\n",
            "{'アップル', 'バナナ', 'パイナップル'}\n"
          ]
        }
      ]
    },
    {
      "cell_type": "markdown",
      "source": [
        "###集合演算\n",
        "包括、積、和、差分"
      ],
      "metadata": {
        "id": "MfF3HvX1iR1f"
      }
    },
    {
      "cell_type": "code",
      "source": [
        "#uniqの値を再設定\n",
        "uniq = set(['アップル','ペン','ペン','パイナップル'])\n",
        "a = set(['アップル','ペン'])\n",
        "b = set(['ペン','パイナップル'])\n",
        "print(uniq)\n",
        "print(a)\n",
        "print(b)\n",
        "#集合　a　は集合uniq　の　subset(部分集合)である？＝包括関係\n",
        "print(a.issubset(uniq))\n",
        "#データ 'ペン' は集合 a の中にある？\n",
        "'ペン' in a"
      ],
      "metadata": {
        "colab": {
          "base_uri": "https://localhost:8080/"
        },
        "id": "gsI7yRbJhBuA",
        "outputId": "ac50e815-1083-40e3-e43c-3195fdfb9f9c"
      },
      "execution_count": 10,
      "outputs": [
        {
          "output_type": "stream",
          "name": "stdout",
          "text": [
            "{'アップル', 'パイナップル', 'ペン'}\n",
            "{'アップル', 'ペン'}\n",
            "{'パイナップル', 'ペン'}\n",
            "True\n"
          ]
        },
        {
          "output_type": "execute_result",
          "data": {
            "text/plain": [
              "True"
            ]
          },
          "metadata": {},
          "execution_count": 10
        }
      ]
    },
    {
      "cell_type": "code",
      "source": [
        "#ある集合と別の酒豪の共通部分の要素(intsersection)\n",
        "#集合 a と集合 b の共通部分\n",
        "print(a)\n",
        "print(b)\n",
        "print(a.intersection(b))# 集合 a のデータで集合 b に共通するもの　：積\n",
        "#集合 a と集合 b の結合　：和集合(setなので重複は削除される)\n",
        "print(a.union(b)) #集合 a と集合 b の集まり\n",
        "#集合 a と集合 b の差集合　(a のみが含まれる集合)\n",
        "print(a.difference(b))#a から b を取り除いた残り(差分: difference )"
      ],
      "metadata": {
        "colab": {
          "base_uri": "https://localhost:8080/"
        },
        "id": "Mr2LthU_jNq_",
        "outputId": "a8fc1cf1-02b7-4047-bdb1-5b01de0efcf4"
      },
      "execution_count": 12,
      "outputs": [
        {
          "output_type": "stream",
          "name": "stdout",
          "text": [
            "{'アップル', 'ペン'}\n",
            "{'パイナップル', 'ペン'}\n",
            "{'ペン'}\n",
            "{'アップル', 'パイナップル', 'ペン'}\n",
            "{'アップル'}\n"
          ]
        }
      ]
    },
    {
      "cell_type": "code",
      "source": [],
      "metadata": {
        "id": "-9OiIWjErYWs"
      },
      "execution_count": null,
      "outputs": []
    }
  ]
}