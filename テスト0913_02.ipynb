{
  "nbformat": 4,
  "nbformat_minor": 0,
  "metadata": {
    "colab": {
      "provenance": [],
      "collapsed_sections": [],
      "authorship_tag": "ABX9TyNe1EMbL+oOyzk2qCgbKITs",
      "include_colab_link": true
    },
    "kernelspec": {
      "name": "python3",
      "display_name": "Python 3"
    },
    "language_info": {
      "name": "python"
    }
  },
  "cells": [
    {
      "cell_type": "markdown",
      "metadata": {
        "id": "view-in-github",
        "colab_type": "text"
      },
      "source": [
        "<a href=\"https://colab.research.google.com/github/tanigawa-kou/DeepLeraning2022Late/blob/main/%E3%83%86%E3%82%B9%E3%83%880913_02.ipynb\" target=\"_parent\"><img src=\"https://colab.research.google.com/assets/colab-badge.svg\" alt=\"Open In Colab\"/></a>"
      ]
    },
    {
      "cell_type": "markdown",
      "source": [
        "#辞書型(dictionary)\n",
        "キーと値のペアで管理する"
      ],
      "metadata": {
        "id": "p2P7yDxFy5hQ"
      }
    },
    {
      "cell_type": "markdown",
      "source": [
        "##辞書型の定義"
      ],
      "metadata": {
        "id": "lwqtKGq3zV7r"
      }
    },
    {
      "cell_type": "code",
      "execution_count": 1,
      "metadata": {
        "colab": {
          "base_uri": "https://localhost:8080/"
        },
        "id": "JrRjUDgUybcP",
        "outputId": "fad2fedc-eb03-4f2f-ce64-e82935e0d2da"
      },
      "outputs": [
        {
          "output_type": "stream",
          "name": "stdout",
          "text": [
            "{'アップル': 1, 'ペン': 2, 'パイナップル': 3}\n",
            "2\n"
          ]
        }
      ],
      "source": [
        "#辞書型のふぇーたを作って変数dictに代入\n",
        "#{キーワード：値 , キーワード：値}\n",
        "dict = {'アップル':1,'ペン':2,'パイナップル':3}\n",
        "print(dict)\n",
        "#値を利用するときは、キーワードで指定\n",
        "print(dict['ペン'])"
      ]
    },
    {
      "cell_type": "markdown",
      "source": [
        "##辞書型のキーの一覧、値一覧を取得する"
      ],
      "metadata": {
        "id": "YUr9Az1R1cXe"
      }
    },
    {
      "cell_type": "code",
      "source": [
        "print(dict)\n",
        "# dictに入っているキーの一覧\n",
        "print(dict.keys())\n",
        "# dictに入っている値の一覧\n",
        "print(dict.values())"
      ],
      "metadata": {
        "colab": {
          "base_uri": "https://localhost:8080/"
        },
        "id": "OXurInka1mTC",
        "outputId": "19fd6b94-bc0a-4d0a-b0b4-82c532d5a659"
      },
      "execution_count": 2,
      "outputs": [
        {
          "output_type": "stream",
          "name": "stdout",
          "text": [
            "{'アップル': 1, 'ペン': 2, 'パイナップル': 3}\n",
            "dict_keys(['アップル', 'ペン', 'パイナップル'])\n",
            "dict_values([1, 2, 3])\n"
          ]
        }
      ]
    },
    {
      "cell_type": "markdown",
      "source": [
        "###辞書型の追加・削除・更新"
      ],
      "metadata": {
        "id": "glf0_t8q1DiG"
      }
    },
    {
      "cell_type": "code",
      "source": [
        "print(dict)\n",
        "# dictにバナナというキーワードで値5を追加\n",
        "dict['バナナ']=5\n",
        "print(dict)\n",
        "#キーワードがすでにあったら、そのキーワードの値を更新\n",
        "dict['バナナ'] = 100\n",
        "print(dict)\n",
        "#キーワードを指定したペアを削除\n",
        "dict.pop('バナナ')\n",
        "print(dict)"
      ],
      "metadata": {
        "colab": {
          "base_uri": "https://localhost:8080/"
        },
        "id": "VNGSVanw0byX",
        "outputId": "76a9cc80-ca91-4a12-c2bf-fa33657ec538"
      },
      "execution_count": 3,
      "outputs": [
        {
          "output_type": "stream",
          "name": "stdout",
          "text": [
            "{'アップル': 1, 'ペン': 2, 'パイナップル': 3}\n",
            "{'アップル': 1, 'ペン': 2, 'パイナップル': 3, 'バナナ': 5}\n",
            "{'アップル': 1, 'ペン': 2, 'パイナップル': 3, 'バナナ': 100}\n",
            "{'アップル': 1, 'ペン': 2, 'パイナップル': 3}\n"
          ]
        }
      ]
    },
    {
      "cell_type": "markdown",
      "source": [
        "#文字列の整形\n",
        "##文字列の連結と繰り返し"
      ],
      "metadata": {
        "id": "2kuLpZ-u4eH-"
      }
    },
    {
      "cell_type": "code",
      "source": [
        "#文字列の連結方法①\n",
        "apple = 'アップル'\n",
        "pen = 'ペン'\n",
        "print( apple + pen )#プラス企業で連結\n",
        "#文字列の連結方法②　文字配列を連結\n",
        "piko = ['ペン','パイナップル','アップル','ペン']\n",
        "# printメソッドで連結して表示　例： , で連結\n",
        "print(',' .join(piko))\n",
        "#回数を指定してメッセージを表示\n",
        "pon = 'ポン'\n",
        "print(pon *3)"
      ],
      "metadata": {
        "colab": {
          "base_uri": "https://localhost:8080/"
        },
        "id": "9-gzfo_c1PRS",
        "outputId": "f4d1a87e-7ef0-4f8b-955a-f061f5309fdc"
      },
      "execution_count": 4,
      "outputs": [
        {
          "output_type": "stream",
          "name": "stdout",
          "text": [
            "アップルペン\n",
            "ペン,パイナップル,アップル,ペン\n",
            "ポンポンポン\n"
          ]
        }
      ]
    },
    {
      "cell_type": "markdown",
      "source": [
        "＃【重要】文字列の整形(フォーマット)"
      ],
      "metadata": {
        "id": "-FqvvE_z6_OH"
      }
    },
    {
      "cell_type": "code",
      "source": [
        "#定式で指定した形のメッセージにする\n",
        "print('{}{}:{}円')\n",
        "#スロットを定義した順番に、その数だけデータを引き渡した文章を組み立てる\n",
        "print('{}{}:{}円'.format('アップル','ペン','100'))\n",
        "#スロットを値のインデックスで指定することができる\n",
        "print('{1}{2}:{0}円'.format( 100 , 'アップル' ,'ペン'))"
      ],
      "metadata": {
        "colab": {
          "base_uri": "https://localhost:8080/"
        },
        "id": "2U0DcvHe5Tml",
        "outputId": "dc4d3f70-0f23-4b34-c3fb-dc0ef8381e0b"
      },
      "execution_count": 5,
      "outputs": [
        {
          "output_type": "stream",
          "name": "stdout",
          "text": [
            "{}{}:{}円\n",
            "アップルペン:100円\n",
            "アップルペン:100円\n"
          ]
        }
      ]
    },
    {
      "cell_type": "markdown",
      "source": [
        "#コレクション演算\n",
        "リスト、タプル、つまり順番がある集合のことをシーケンスという。\n",
        "順番がない集合を(セット)という\n",
        "上記2種類をまとめてコレクションという。\n",
        "コレクションは共通の演算が使える\n",
        "len(長さ、量を取得),max(最大値を取得),min(最小値を取得)など"
      ],
      "metadata": {
        "id": "NuVsETqfW12z"
      }
    },
    {
      "cell_type": "code",
      "source": [
        "list = [1, 1, 2, 3, 4, 5] #6つの要素\n",
        "tuple = (10, 9, 7, 7, 8, 8, 9) #7つの要素\n",
        "set = {1, -2, 3, -4, 5, -6, 7, -8} #8つの要素\n",
        "#リストの長さ、最大値、最小値\n",
        "print(len(list), max(list) , min(list))\n",
        "#タプルの長さ、最大値、最小値\n",
        "print(len(tuple), max(tuple), min(tuple))\n",
        "#セットの長さ、最大値、最小値\n",
        "print(len(set), max(set), min(set))"
      ],
      "metadata": {
        "id": "Fik4RhVu7zdI",
        "colab": {
          "base_uri": "https://localhost:8080/"
        },
        "outputId": "00fd92b6-1749-4275-cabe-c945e6776112"
      },
      "execution_count": 6,
      "outputs": [
        {
          "output_type": "stream",
          "name": "stdout",
          "text": [
            "6 5 1\n",
            "7 10 7\n",
            "8 7 -8\n"
          ]
        }
      ]
    },
    {
      "cell_type": "code",
      "source": [],
      "metadata": {
        "id": "eH9_xNK-ZjuQ"
      },
      "execution_count": null,
      "outputs": []
    }
  ]
}